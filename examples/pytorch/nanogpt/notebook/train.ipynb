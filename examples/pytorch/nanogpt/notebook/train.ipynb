{
 "cells": [
  {
   "cell_type": "markdown",
   "id": "04c73467",
   "metadata": {},
   "source": [
    "# DLRover's NanoGPT Training\n",
    "This notebook provides an implementation of the NanoGPT model using DLRover's distributed training setup. The code is designed for both GPU and CPU environment."
   ]
  },
  {
   "cell_type": "markdown",
   "id": "47e2faa1",
   "metadata": {},
   "source": [
    "## Setup and Dependencies\n",
    "First, let's import the necessary libraries and set up the environment for distributed training."
   ]
  },
  {
   "cell_type": "code",
   "execution_count": 52,
   "id": "eac54c55",
   "metadata": {},
   "outputs": [],
   "source": [
    "import argparse\n",
    "import math\n",
    "import os\n",
    "import pickle\n",
    "import time\n",
    "from datetime import timedelta\n",
    "from collections import Counter\n",
    "import wandb\n",
    "\n",
    "import numpy as np\n",
    "import torch\n",
    "import torch.distributed as dist\n",
    "from lora import apply_lora\n",
    "from model import GPT, GPTConfig\n",
    "from torch.distributed.fsdp import FullyShardedDataParallel as FSDP\n",
    "from torch.distributed.fsdp.wrap import size_based_auto_wrap_policy\n",
    "from torch.nn.parallel import DistributedDataParallel as DDP\n",
    "from torch.utils.data import DataLoader, Dataset\n",
    "from tqdm import tqdm\n",
    "import requests\n",
    "from contextlib import nullcontext\n",
    "\n",
    "os.environ[\"CUDA_DEVICE_ORDER\"] = \"PCI_BUS_ID\"\n",
    "\n",
    "import sys\n",
    "sys.path.append(\"..\")\n",
    "\n",
    "from lora import apply_lora\n",
    "from model import GPT, GPTConfig\n"
   ]
  }
 ],
 "metadata": {
  "kernelspec": {
   "display_name": "Python 3 (ipykernel)",
   "language": "python",
   "name": "python3"
  },
  "language_info": {
   "codemirror_mode": {
    "name": "ipython",
    "version": 3
   },
   "file_extension": ".py",
   "mimetype": "text/x-python",
   "name": "python",
   "nbconvert_exporter": "python",
   "pygments_lexer": "ipython3",
   "version": "3.9.12"
  }
 },
 "nbformat": 4,
 "nbformat_minor": 5
}
